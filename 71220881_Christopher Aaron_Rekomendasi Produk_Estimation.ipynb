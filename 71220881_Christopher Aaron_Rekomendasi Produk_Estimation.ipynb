{
 "cells": [
  {
   "cell_type": "markdown",
   "metadata": {},
   "source": [
    "### import Libraries dan Load Dataset\n",
    "Mengimpor pustaka yang diperlukan.\n",
    "Memuat dataset dari file yang diberikan.\n",
    "Menampilkan beberapa baris pertama dari dataset untuk memastikan bahwa data dimuat dengan benar"
   ]
  },
  {
   "cell_type": "code",
   "execution_count": 8,
   "metadata": {},
   "outputs": [
    {
     "name": "stdout",
     "output_type": "stream",
     "text": [
      "           userID   productID  rating   timestamp\n",
      "0   AKM1MP6P0OYPR  0132793040       5  1365811200\n",
      "1  A2CX7LUOHB2NDG  0321732944       5  1341100800\n",
      "2  A2NWSAGRHCP8N5  0439886341       1  1367193600\n",
      "3  A2WNBOD3WNDNKT  0439886341       3  1374451200\n",
      "4  A1GI0U4ZRJA8WN  0439886341       1  1334707200\n"
     ]
    }
   ],
   "source": [
    "# Import necessary libraries\n",
    "import pandas as pd\n",
    "from surprise import Dataset, Reader, SVD\n",
    "from surprise.model_selection import train_test_split\n",
    "from surprise.accuracy import rmse\n",
    "import matplotlib.pyplot as plt\n",
    "import os\n",
    "\n",
    "# Load the dataset\n",
    "file_path = '[Dataset]_(Rekomendasi.csv'\n",
    "data = pd.read_csv(file_path)\n",
    "\n",
    "# Display the first few rows of the dataset\n",
    "print(data.head())"
   ]
  },
  {
   "cell_type": "markdown",
   "metadata": {},
   "source": [
    "### Define Reader and Load Data\n",
    "The Reader object is defined to interpret the data correctly. The Dataset.load_from_df function is used to load the data into a format that the Surprise library can work with."
   ]
  },
  {
   "cell_type": "code",
   "execution_count": 9,
   "metadata": {},
   "outputs": [],
   "source": [
    "# Define the reader with the appropriate format\n",
    "reader = Reader(rating_scale=(data['rating'].min(), data['rating'].max()))\n",
    "\n",
    "# Load the data into the surprise Dataset\n",
    "surprise_data = Dataset.load_from_df(data[['userID', 'productID', 'rating']], reader)"
   ]
  },
  {
   "cell_type": "markdown",
   "metadata": {},
   "source": [
    "### Split Data into Training and Test Sets\n",
    "This code splits the data into training and test sets. 80% of the data is used for training, and 20% is used for testing"
   ]
  },
  {
   "cell_type": "code",
   "execution_count": 10,
   "metadata": {},
   "outputs": [],
   "source": [
    "trainset, testset = train_test_split(surprise_data, test_size=0.2, random_state=42)"
   ]
  },
  {
   "cell_type": "markdown",
   "metadata": {},
   "source": [
    "### Model Training\n",
    "The SVD (Singular Value Decomposition) algorithm is chosen for the recommendation model. The model is then trained using the training set."
   ]
  },
  {
   "cell_type": "code",
   "execution_count": 11,
   "metadata": {},
   "outputs": [
    {
     "data": {
      "text/plain": [
       "<surprise.prediction_algorithms.matrix_factorization.SVD at 0x19660ac9950>"
      ]
     },
     "execution_count": 11,
     "metadata": {},
     "output_type": "execute_result"
    }
   ],
   "source": [
    "# Use SVD (Singular Value Decomposition) algorithm for recommendations\n",
    "model = SVD()\n",
    "\n",
    "# Train the model\n",
    "model.fit(trainset)"
   ]
  },
  {
   "cell_type": "markdown",
   "metadata": {},
   "source": [
    "### Model Prediction and Evaluation\n",
    "The model makes predictions on the test set. The root mean square error (RMSE) is calculated to evaluate the model's performance."
   ]
  },
  {
   "cell_type": "code",
   "execution_count": 12,
   "metadata": {},
   "outputs": [
    {
     "name": "stdout",
     "output_type": "stream",
     "text": [
      "RMSE: 1.2954\n",
      "RMSE: 1.2954169720603028\n"
     ]
    }
   ],
   "source": [
    "# Make predictions on the test set\n",
    "predictions = model.test(testset)\n",
    "\n",
    "# Evaluate the model\n",
    "rmse_value = rmse(predictions)\n",
    "print(f'RMSE: {rmse_value}')"
   ]
  },
  {
   "cell_type": "markdown",
   "metadata": {},
   "source": [
    "### Generate Recommendations\n",
    "A function get_top_n_recommendations is defined to get the top N product recommendations for each user based on the predictions. The recommendations for a sample user (userID=1) are then displayed."
   ]
  },
  {
   "cell_type": "code",
   "execution_count": 13,
   "metadata": {},
   "outputs": [
    {
     "name": "stdout",
     "output_type": "stream",
     "text": [
      "No recommendations available for user 1\n"
     ]
    }
   ],
   "source": [
    "# Function to get top N recommendations for a given user\n",
    "def get_top_n_recommendations(predictions, n=10):\n",
    "    # First map the predictions to each user\n",
    "    top_n = {}\n",
    "    for uid, iid, true_r, est, _ in predictions:\n",
    "        if uid not in top_n:\n",
    "            top_n[uid] = []\n",
    "        top_n[uid].append((iid, est))\n",
    "    \n",
    "    # Then sort the predictions for each user and retrieve the N highest ones.\n",
    "    for uid, user_ratings in top_n.items():\n",
    "        user_ratings.sort(key=lambda x: x[1], reverse=True)\n",
    "        top_n[uid] = user_ratings[:n]\n",
    "    \n",
    "    return top_n\n",
    "\n",
    "# Get top 10 recommendations for all users\n",
    "top_n_recommendations = get_top_n_recommendations(predictions, n=10)\n",
    "\n",
    "# Display top 10 recommendations for a sample user (e.g., userID=1)\n",
    "sample_user_id = 1\n",
    "if sample_user_id in top_n_recommendations:\n",
    "    print(f'Top 10 recommendations for user {sample_user_id}:')\n",
    "    for product_id, estimated_rating in top_n_recommendations[sample_user_id]:\n",
    "        print(f'Product ID: {product_id}, Estimated Rating: {estimated_rating}')\n",
    "else:\n",
    "    print(f'No recommendations available for user {sample_user_id}')\n"
   ]
  }
 ],
 "metadata": {
  "kernelspec": {
   "display_name": "Python 3 (ipykernel)",
   "language": "python",
   "name": "python3"
  },
  "language_info": {
   "codemirror_mode": {
    "name": "ipython",
    "version": 3
   },
   "file_extension": ".py",
   "mimetype": "text/x-python",
   "name": "python",
   "nbconvert_exporter": "python",
   "pygments_lexer": "ipython3",
   "version": "3.11.0"
  }
 },
 "nbformat": 4,
 "nbformat_minor": 4
}
